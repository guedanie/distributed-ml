{
 "cells": [
  {
   "cell_type": "markdown",
   "metadata": {},
   "source": [
    "# Machine Learning with Spark\n",
    "\n",
    "In this lesson we'll take a look at how to implement and evaluate machine learning models with spark."
   ]
  },
  {
   "cell_type": "markdown",
   "metadata": {},
   "source": [
    "## Setup\n",
    "\n",
    "First we'll do a couple of imports and setup our spark session."
   ]
  },
  {
   "cell_type": "code",
   "execution_count": 1,
   "metadata": {},
   "outputs": [],
   "source": [
    "%matplotlib inline\n",
    "from pydataset import data\n",
    "\n",
    "import pyspark\n",
    "import pyspark.ml\n",
    "from pyspark.sql.functions import *\n",
    "\n",
    "spark = pyspark.sql.SparkSession.builder.getOrCreate()"
   ]
  },
  {
   "cell_type": "markdown",
   "metadata": {},
   "source": [
    "The data we'll use for this lesson is the `swiss` dataset. We'll cleanup the column names just a bit before we turn the dataset into a spark dataframe."
   ]
  },
  {
   "cell_type": "code",
   "execution_count": 3,
   "metadata": {},
   "outputs": [
    {
     "name": "stdout",
     "output_type": "stream",
     "text": [
      "+---------+-----------+-----------+---------+--------+----------------+\n",
      "|fertility|agriculture|examination|education|catholic|infant_mortality|\n",
      "+---------+-----------+-----------+---------+--------+----------------+\n",
      "|     80.2|       17.0|         15|       12|    9.96|            22.2|\n",
      "|     83.1|       45.1|          6|        9|   84.84|            22.2|\n",
      "|     92.5|       39.7|          5|        5|    93.4|            20.2|\n",
      "|     85.8|       36.5|         12|        7|   33.77|            20.3|\n",
      "|     76.9|       43.5|         17|       15|    5.16|            20.6|\n",
      "+---------+-----------+-----------+---------+--------+----------------+\n",
      "only showing top 5 rows\n",
      "\n"
     ]
    }
   ],
   "source": [
    "swiss = data(\"swiss\")\n",
    "swiss.columns = [col.lower().replace(\".\", \"_\") for col in swiss]\n",
    "swiss = spark.createDataFrame(swiss)\n",
    "swiss.show(5)"
   ]
  },
  {
   "cell_type": "markdown",
   "metadata": {},
   "source": [
    "## Classification\n",
    "\n",
    "We'll first take a look at implementing a classification model. In order to do so, we'll need a categorical variable to predict. We'll transform the `catholic` column into a categorical variable indicating whether a province is catholic or not. \n",
    "\n",
    "First we'll plot a histogram to justify why this transformation is reasonable to make:"
   ]
  },
  {
   "cell_type": "code",
   "execution_count": 4,
   "metadata": {
    "scrolled": true
   },
   "outputs": [
    {
     "data": {
      "text/plain": [
       "<matplotlib.axes._subplots.AxesSubplot at 0x114765610>"
      ]
     },
     "execution_count": 4,
     "metadata": {},
     "output_type": "execute_result"
    },
    {
     "data": {
      "image/png": "[encoded data removed]",
      "text/plain": [
       "<Figure size 432x288 with 1 Axes>"
      ]
     },
     "metadata": {
      "needs_background": "light"
     },
     "output_type": "display_data"
    }
   ],
   "source": [
    "swiss.toPandas().catholic.plot.hist()"
   ]
  },
  {
   "cell_type": "markdown",
   "metadata": {},
   "source": [
    "The visualization above tells us that most providences fall into one of two extremes in regards to percentage catholic.\n",
    "\n",
    "We'll now go ahead and use spark to make the transformation."
   ]
  },
  {
   "cell_type": "code",
   "execution_count": 5,
   "metadata": {
    "scrolled": true
   },
   "outputs": [
    {
     "name": "stdout",
     "output_type": "stream",
     "text": [
      "+---------+-----------+-----------+---------+----------------+------------+\n",
      "|fertility|agriculture|examination|education|infant_mortality| is_catholic|\n",
      "+---------+-----------+-----------+---------+----------------+------------+\n",
      "|     80.2|       17.0|         15|       12|            22.2|Not Catholic|\n",
      "|     83.1|       45.1|          6|        9|            22.2|    Catholic|\n",
      "|     92.5|       39.7|          5|        5|            20.2|    Catholic|\n",
      "|     85.8|       36.5|         12|        7|            20.3|Not Catholic|\n",
      "|     76.9|       43.5|         17|       15|            20.6|Not Catholic|\n",
      "+---------+-----------+-----------+---------+----------------+------------+\n",
      "only showing top 5 rows\n",
      "\n"
     ]
    }
   ],
   "source": [
    "swiss = swiss.withColumn(\n",
    "    \"is_catholic\",\n",
    "    when(swiss.catholic > 60, \"Catholic\").otherwise(\"Not Catholic\"),\n",
    ").drop(\"catholic\")\n",
    "swiss.show(5)"
   ]
  },
  {
   "cell_type": "markdown",
   "metadata": {},
   "source": [
    "## Reshaping Our Data For Machine Learning\n",
    "\n",
    "Spark's machine learning library requires that our data be in a very specific format. A dataframe that will be used with one of spark's machine learning models must have one column (`features`) that contains a list of th eindependent variable values, and another column (`label`) that contains the target variable. In addition, all numbers must be floats. Luckily, spark supplies us with some functionality to make this transformation pretty easy. \n",
    "\n",
    "Within the `pyspark.ml.feature` module are many classes that perform different transformations on dataframes, for example, min-max scaling. We'll take a look at the `REformula` class, which we can use to quickly transform our data into the necessary format. "
   ]
  },
  {
   "cell_type": "markdown",
   "metadata": {},
   "source": [
    "> ### Other Transformations With Spark\n",
    "\n",
    "> We are just exploring the `REformula` in this lesson, but the `pyspark.ml.feature` module contains many more classes as well, for things like scaling numeric features, or extracting tokens from text. "
   ]
  },
  {
   "cell_type": "markdown",
   "metadata": {},
   "source": [
    "The way we work with this class is similar to how we work with the `sklearn` classes, in that we'll first need to fit the object, then transform."
   ]
  },
  {
   "cell_type": "code",
   "execution_count": 6,
   "metadata": {},
   "outputs": [],
   "source": [
    "from pyspark.ml.feature import RFormula\n",
    "\n",
    "rf = RFormula(formula=\"is_catholic ~ agriculture + examination\")\n",
    "\n",
    "df = rf.fit(swiss).transform(swiss)"
   ]
  },
  {
   "cell_type": "markdown",
   "metadata": {},
   "source": [
    "Here we specfidfied a string containing a formula that describes a linear model to be fit. This formula is taken from the R programming language. Here are several examples:\n",
    "\n",
    "* `y ~ x`: predict `y` based on `x`\n",
    "* `y ~ x1 + x2 + x3`: predict `y` based on `x1`, `x2`, `x3`\n",
    "* `y ~ .`: predict `y` based on all of the variables except for the independent variable (i.e everything except for `y`)\n",
    "\n",
    "In our case, we wrote a formula to predict `is_catholic` based on `agriculture` and `examination`.\n",
    "\n",
    "The `RFormula` object will add two new columns to our dataframe, `features`, and `label`, and we'll store those in `df` so that we can feed them into a Logistic Regression model."
   ]
  },
  {
   "cell_type": "code",
   "execution_count": 7,
   "metadata": {},
   "outputs": [
    {
     "name": "stdout",
     "output_type": "stream",
     "text": [
      "+---------+-----------+-----------+---------+----------------+------------+-----------+-----+\n",
      "|fertility|agriculture|examination|education|infant_mortality| is_catholic|   features|label|\n",
      "+---------+-----------+-----------+---------+----------------+------------+-----------+-----+\n",
      "|     80.2|       17.0|         15|       12|            22.2|Not Catholic|[17.0,15.0]|  0.0|\n",
      "|     83.1|       45.1|          6|        9|            22.2|    Catholic| [45.1,6.0]|  1.0|\n",
      "|     92.5|       39.7|          5|        5|            20.2|    Catholic| [39.7,5.0]|  1.0|\n",
      "|     85.8|       36.5|         12|        7|            20.3|Not Catholic|[36.5,12.0]|  0.0|\n",
      "|     76.9|       43.5|         17|       15|            20.6|Not Catholic|[43.5,17.0]|  0.0|\n",
      "+---------+-----------+-----------+---------+----------------+------------+-----------+-----+\n",
      "only showing top 5 rows\n",
      "\n"
     ]
    }
   ],
   "source": [
    "df.show(5)"
   ]
  },
  {
   "cell_type": "code",
   "execution_count": 8,
   "metadata": {},
   "outputs": [],
   "source": [
    "from pyspark.ml.classification import LogisticRegression"
   ]
  },
  {
   "cell_type": "markdown",
   "metadata": {},
   "source": [
    "Once we've imported the `LogisticRegression` class, we can make an instance of it, and use the `.fit` method to get a fitted model."
   ]
  },
  {
   "cell_type": "code",
   "execution_count": 10,
   "metadata": {},
   "outputs": [
    {
     "data": {
      "text/plain": [
       "LogisticRegressionModel: uid = LogisticRegression_1b7440882d85, numClasses = 2, numFeatures = 2"
      ]
     },
     "execution_count": 10,
     "metadata": {},
     "output_type": "execute_result"
    }
   ],
   "source": [
    "lr = LogisticRegression()\n",
    "# lr.explainParams() # to show all of the hyperparams\n",
    "lr_fit = lr.fit(df)\n",
    "lr_fit"
   ]
  },
  {
   "cell_type": "markdown",
   "metadata": {},
   "source": [
    "The data we give to the `.transform` method needs to be in the same shape that we used for training the model. \n",
    "\n",
    "We'll also add a column named `we_got_it_right`, which is boolean value that indicates whether or not our prediction was correct."
   ]
  },
  {
   "cell_type": "code",
   "execution_count": 11,
   "metadata": {},
   "outputs": [
    {
     "name": "stdout",
     "output_type": "stream",
     "text": [
      "+------------+-----+--------------------+--------------------+----------+---------------+\n",
      "| is_catholic|label|       rawPrediction|         probability|prediction|we_got_it_right|\n",
      "+------------+-----+--------------------+--------------------+----------+---------------+\n",
      "|Not Catholic|  0.0|[2.61081360006245...|[0.93155429036120...|       0.0|           true|\n",
      "|    Catholic|  1.0|[-1.9844861732885...|[0.12084142107894...|       1.0|           true|\n",
      "|    Catholic|  1.0|[-2.1417946363626...|[0.10510047647313...|       1.0|           true|\n",
      "|Not Catholic|  0.0|[0.65897957038476...|[0.65903112585454...|       0.0|           true|\n",
      "|Not Catholic|  0.0|[2.27460235659845...|[0.90675166037879...|       0.0|           true|\n",
      "+------------+-----+--------------------+--------------------+----------+---------------+\n",
      "only showing top 5 rows\n",
      "\n"
     ]
    }
   ],
   "source": [
    "(\n",
    "    lr_fit.transform(df)\n",
    "    .withColumn(\"we_got_it_right\", col(\"label\") == col(\"prediction\"))\n",
    "    .select(\n",
    "        \"is_catholic\",\n",
    "        \"label\",\n",
    "        \"rawPrediction\",\n",
    "        \"probability\",\n",
    "        \"prediction\",\n",
    "        \"we_got_it_right\",\n",
    "    )\n",
    ").show(5)"
   ]
  },
  {
   "cell_type": "markdown",
   "metadata": {},
   "source": [
    "To evalute our model's performance, we can take a look at the `summary` property of the fit model. "
   ]
  },
  {
   "cell_type": "code",
   "execution_count": 12,
   "metadata": {},
   "outputs": [
    {
     "data": {
      "text/plain": [
       "<pyspark.ml.classification.BinaryLogisticRegressionTrainingSummary at 0x1186b3850>"
      ]
     },
     "execution_count": 12,
     "metadata": {},
     "output_type": "execute_result"
    }
   ],
   "source": [
    "training_summary = lr_fit.summary\n",
    "training_summary"
   ]
  },
  {
   "cell_type": "markdown",
   "metadata": {},
   "source": [
    "This summary contains many properties that are common classification metrics. Several examples are shown below:"
   ]
  },
  {
   "cell_type": "code",
   "execution_count": 13,
   "metadata": {},
   "outputs": [
    {
     "data": {
      "text/plain": [
       "0.931451612903226"
      ]
     },
     "execution_count": 13,
     "metadata": {},
     "output_type": "execute_result"
    }
   ],
   "source": [
    "training_summary.areaUnderROC"
   ]
  },
  {
   "cell_type": "code",
   "execution_count": 14,
   "metadata": {},
   "outputs": [
    {
     "data": {
      "text/plain": [
       "0.8723404255319149"
      ]
     },
     "execution_count": 14,
     "metadata": {},
     "output_type": "execute_result"
    }
   ],
   "source": [
    "training_summary.accuracy"
   ]
  },
  {
   "cell_type": "code",
   "execution_count": 15,
   "metadata": {},
   "outputs": [
    {
     "data": {
      "text/plain": [
       "[0.9354838709677419, 0.75]"
      ]
     },
     "execution_count": 15,
     "metadata": {},
     "output_type": "execute_result"
    }
   ],
   "source": [
    "training_summary.recallByLabel"
   ]
  },
  {
   "cell_type": "code",
   "execution_count": 17,
   "metadata": {},
   "outputs": [
    {
     "data": {
      "text/plain": [
       "[0.8787878787878788, 0.8571428571428571]"
      ]
     },
     "execution_count": 17,
     "metadata": {},
     "output_type": "execute_result"
    }
   ],
   "source": [
    "training_summary.precisionByLabel"
   ]
  },
  {
   "cell_type": "markdown",
   "metadata": {},
   "source": [
    "## Regression\n",
    "\n",
    "Building a regression model will follow the same pattern as building the classification model. \n",
    "\n",
    "For this example, we'll try to predict `fertility` based on `education` and `examination`. "
   ]
  },
  {
   "cell_type": "code",
   "execution_count": 18,
   "metadata": {},
   "outputs": [
    {
     "name": "stdout",
     "output_type": "stream",
     "text": [
      "+---------+-----------+-----------+---------+----------------+------------+\n",
      "|fertility|agriculture|examination|education|infant_mortality| is_catholic|\n",
      "+---------+-----------+-----------+---------+----------------+------------+\n",
      "|     80.2|       17.0|         15|       12|            22.2|Not Catholic|\n",
      "|     83.1|       45.1|          6|        9|            22.2|    Catholic|\n",
      "|     92.5|       39.7|          5|        5|            20.2|    Catholic|\n",
      "|     85.8|       36.5|         12|        7|            20.3|Not Catholic|\n",
      "|     76.9|       43.5|         17|       15|            20.6|Not Catholic|\n",
      "|     76.1|       35.3|          9|        7|            26.6|    Catholic|\n",
      "|     83.8|       70.2|         16|        7|            23.6|    Catholic|\n",
      "|     92.4|       67.8|         14|        8|            24.9|    Catholic|\n",
      "|     82.4|       53.3|         12|        7|            21.0|    Catholic|\n",
      "|     82.9|       45.2|         16|       13|            24.4|    Catholic|\n",
      "|     87.1|       64.5|         14|        6|            24.5|    Catholic|\n",
      "|     64.1|       62.0|         21|       12|            16.5|Not Catholic|\n",
      "|     66.9|       67.5|         14|        7|            19.1|Not Catholic|\n",
      "|     68.9|       60.7|         19|       12|            22.7|Not Catholic|\n",
      "|     61.7|       69.3|         22|        5|            18.7|Not Catholic|\n",
      "|     68.3|       72.6|         18|        2|            21.2|Not Catholic|\n",
      "|     71.7|       34.0|         17|        8|            20.0|Not Catholic|\n",
      "|     55.7|       19.4|         26|       28|            20.2|Not Catholic|\n",
      "|     54.3|       15.2|         31|       20|            10.8|Not Catholic|\n",
      "|     65.1|       73.0|         19|        9|            20.0|Not Catholic|\n",
      "+---------+-----------+-----------+---------+----------------+------------+\n",
      "only showing top 20 rows\n",
      "\n"
     ]
    }
   ],
   "source": [
    "swiss.show()"
   ]
  },
  {
   "cell_type": "markdown",
   "metadata": {},
   "source": [
    "Like before, we'll use the `RFormular` object to transform our data:"
   ]
  },
  {
   "cell_type": "code",
   "execution_count": 19,
   "metadata": {},
   "outputs": [
    {
     "name": "stdout",
     "output_type": "stream",
     "text": [
      "+-----------+-----+\n",
      "|   features|label|\n",
      "+-----------+-----+\n",
      "|[12.0,15.0]| 80.2|\n",
      "|  [9.0,6.0]| 83.1|\n",
      "|  [5.0,5.0]| 92.5|\n",
      "| [7.0,12.0]| 85.8|\n",
      "|[15.0,17.0]| 76.9|\n",
      "+-----------+-----+\n",
      "only showing top 5 rows\n",
      "\n"
     ]
    }
   ],
   "source": [
    "rf = RFormula(formula=\"fertility ~ education + examination\")\n",
    "\n",
    "df = rf.fit(swiss).transform(swiss).select(\"features\", \"label\")\n",
    "\n",
    "df.show(5)"
   ]
  },
  {
   "cell_type": "markdown",
   "metadata": {},
   "source": [
    "And then feed the data into a spark machine learning model:"
   ]
  },
  {
   "cell_type": "code",
   "execution_count": 20,
   "metadata": {},
   "outputs": [
    {
     "name": "stdout",
     "output_type": "stream",
     "text": [
      "+-----------+-----+------------------+\n",
      "|   features|label|        prediction|\n",
      "+-----------+-----+------------------+\n",
      "|[12.0,15.0]| 80.2| 70.42151794297949|\n",
      "|  [9.0,6.0]| 83.1| 77.05485310331397|\n",
      "|  [5.0,5.0]| 92.5| 79.76989921395027|\n",
      "| [7.0,12.0]| 85.8|  74.7904575219264|\n",
      "|[15.0,17.0]| 76.9| 67.68871054525117|\n",
      "|  [7.0,9.0]| 76.1| 76.46211227732904|\n",
      "| [7.0,16.0]| 83.8| 72.56158451472288|\n",
      "| [8.0,14.0]| 92.4| 73.13656405361579|\n",
      "| [7.0,12.0]| 82.4|  74.7904575219264|\n",
      "|[13.0,16.0]| 82.9| 69.32484272646975|\n",
      "| [6.0,14.0]| 87.1|  74.2154779830335|\n",
      "|[12.0,21.0]| 64.1| 67.07820843217421|\n",
      "| [7.0,14.0]| 66.9| 73.67602101832463|\n",
      "|[12.0,19.0]| 68.9| 68.19264493577597|\n",
      "| [5.0,22.0]| 61.7| 70.29718893333529|\n",
      "| [2.0,18.0]| 68.3| 74.14443283466538|\n",
      "| [8.0,17.0]| 71.7| 71.46490929821314|\n",
      "|[28.0,26.0]| 55.7|55.660805737828156|\n",
      "|[20.0,31.0]| 54.3| 57.19037019649457|\n",
      "| [9.0,19.0]| 65.1| 69.81101582990253|\n",
      "+-----------+-----+------------------+\n",
      "only showing top 20 rows\n",
      "\n"
     ]
    }
   ],
   "source": [
    "from pyspark.ml.regression import LinearRegression\n",
    "\n",
    "lr = LinearRegression()\n",
    "lr_fit = lr.fit(df)\n",
    "lr_fit.transform(df).show()"
   ]
  },
  {
   "cell_type": "markdown",
   "metadata": {},
   "source": [
    "Like the logistic regression model, we have access to a `summary` property that gives us common regression model evaluation metrics."
   ]
  },
  {
   "cell_type": "code",
   "execution_count": 21,
   "metadata": {},
   "outputs": [],
   "source": [
    "training_summary = lr_fit.summary"
   ]
  },
  {
   "cell_type": "code",
   "execution_count": 22,
   "metadata": {},
   "outputs": [
    {
     "data": {
      "text/plain": [
       "(0.5054845186373226, 8.69043227803294)"
      ]
     },
     "execution_count": 22,
     "metadata": {},
     "output_type": "execute_result"
    }
   ],
   "source": [
    "training_summary.r2, training_summary.rootMeanSquaredError"
   ]
  },
  {
   "cell_type": "code",
   "execution_count": 23,
   "metadata": {},
   "outputs": [
    {
     "data": {
      "text/plain": [
       "(7.223147119974515, 75.52361317907679)"
      ]
     },
     "execution_count": 23,
     "metadata": {},
     "output_type": "execute_result"
    }
   ],
   "source": [
    "training_summary.meanAbsoluteError, training_summary.meanSquaredError"
   ]
  },
  {
   "cell_type": "code",
   "execution_count": 24,
   "metadata": {},
   "outputs": [
    {
     "name": "stdout",
     "output_type": "stream",
     "text": [
      "+------------------+\n",
      "|         residuals|\n",
      "+------------------+\n",
      "| 9.778482057020511|\n",
      "|6.0451468966860205|\n",
      "|12.730100786049732|\n",
      "|11.009542478073598|\n",
      "| 9.211289454748837|\n",
      "+------------------+\n",
      "only showing top 5 rows\n",
      "\n"
     ]
    }
   ],
   "source": [
    "training_summary.residuals.show(5)"
   ]
  }
 ],
 "metadata": {
  "kernelspec": {
   "display_name": "Python 3",
   "language": "python",
   "name": "python3"
  },
  "language_info": {
   "codemirror_mode": {
    "name": "ipython",
    "version": 3
   },
   "file_extension": ".py",
   "mimetype": "text/x-python",
   "name": "python",
   "nbconvert_exporter": "python",
   "pygments_lexer": "ipython3",
   "version": "3.7.4"
  }
 },
 "nbformat": 4,
 "nbformat_minor": 2
}
