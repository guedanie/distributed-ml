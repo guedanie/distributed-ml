{
 "cells": [
  {
   "cell_type": "markdown",
   "metadata": {},
   "source": [
    "# Spark 101 Exercises"
   ]
  },
  {
   "cell_type": "code",
   "execution_count": 74,
   "metadata": {},
   "outputs": [],
   "source": [
    "import pandas as pd\n",
    "import numpy as np\n",
    "import pyspark\n",
    "from pydataset import data\n",
    "spark = pyspark.sql.SparkSession.builder.getOrCreate()\n",
    "from pyspark.sql.functions import concat, sum, avg, min, max, count, mean\n",
    "from pyspark.sql.functions import lit\n",
    "from pyspark.sql.functions import col, expr\n",
    "from pyspark.sql.functions import month, year, quarter\n",
    "from pyspark.sql.functions import regexp_extract, regexp_replace"
   ]
  },
  {
   "cell_type": "markdown",
   "metadata": {},
   "source": [
    "Create a jupyter notebook or python script named spark101 for this exercise.\n",
    "\n",
    "1. Create a spark data frame that contains your favorite programming languages."
   ]
  },
  {
   "cell_type": "code",
   "execution_count": 2,
   "metadata": {},
   "outputs": [],
   "source": [
    "# The name of the column should be language\n",
    "df = pd.DataFrame({\"language\": [\"python\", \"java\", \"javascript\", \"sql\", \"ruby\"]})"
   ]
  },
  {
   "cell_type": "code",
   "execution_count": 3,
   "metadata": {},
   "outputs": [
    {
     "data": {
      "text/plain": [
       "DataFrame[language: string]"
      ]
     },
     "execution_count": 3,
     "metadata": {},
     "output_type": "execute_result"
    }
   ],
   "source": [
    "# View the schema of the dataframe\n",
    "sp_df = spark.createDataFrame(df)\n",
    "sp_df"
   ]
  },
  {
   "cell_type": "code",
   "execution_count": 4,
   "metadata": {},
   "outputs": [
    {
     "data": {
      "text/plain": [
       "5"
      ]
     },
     "execution_count": 4,
     "metadata": {},
     "output_type": "execute_result"
    }
   ],
   "source": [
    "# Output the shape of the dataframe\n",
    "sp_df.count()"
   ]
  },
  {
   "cell_type": "code",
   "execution_count": 5,
   "metadata": {
    "scrolled": true
   },
   "outputs": [
    {
     "name": "stdout",
     "output_type": "stream",
     "text": [
      "+----------+\n",
      "|  language|\n",
      "+----------+\n",
      "|    python|\n",
      "|      java|\n",
      "|javascript|\n",
      "|       sql|\n",
      "|      ruby|\n",
      "+----------+\n",
      "\n"
     ]
    }
   ],
   "source": [
    "# Show the first 5 records in the dataframe\n",
    "sp_df.show(5)"
   ]
  },
  {
   "cell_type": "markdown",
   "metadata": {},
   "source": [
    "2. Load the mpg dataset as a spark dataframe.\n",
    "\n",
    "    * Create 1 column of output that contains a message like the one below:\n",
    "\n",
    "    `The 1999 audi a4 has a 4 cylinder engine.`\n",
    "\n",
    "   "
   ]
  },
  {
   "cell_type": "code",
   "execution_count": 6,
   "metadata": {},
   "outputs": [],
   "source": [
    "mpg = spark.createDataFrame(data(\"mpg\"))"
   ]
  },
  {
   "cell_type": "code",
   "execution_count": 7,
   "metadata": {},
   "outputs": [
    {
     "name": "stdout",
     "output_type": "stream",
     "text": [
      "+------------+-----+-----+----+---+----------+---+---+---+---+-------+\n",
      "|manufacturer|model|displ|year|cyl|     trans|drv|cty|hwy| fl|  class|\n",
      "+------------+-----+-----+----+---+----------+---+---+---+---+-------+\n",
      "|        audi|   a4|  1.8|1999|  4|  auto(l5)|  f| 18| 29|  p|compact|\n",
      "|        audi|   a4|  1.8|1999|  4|manual(m5)|  f| 21| 29|  p|compact|\n",
      "|        audi|   a4|  2.0|2008|  4|manual(m6)|  f| 20| 31|  p|compact|\n",
      "|        audi|   a4|  2.0|2008|  4|  auto(av)|  f| 21| 30|  p|compact|\n",
      "|        audi|   a4|  2.8|1999|  6|  auto(l5)|  f| 16| 26|  p|compact|\n",
      "+------------+-----+-----+----+---+----------+---+---+---+---+-------+\n",
      "only showing top 5 rows\n",
      "\n"
     ]
    }
   ],
   "source": [
    "mpg.show(5)"
   ]
  },
  {
   "cell_type": "code",
   "execution_count": 73,
   "metadata": {},
   "outputs": [
    {
     "name": "stdout",
     "output_type": "stream",
     "text": [
      "+-----------------------------------------+\n",
      "|column                                   |\n",
      "+-----------------------------------------+\n",
      "|The 1999 audi a4 has a 4 cylinder engine.|\n",
      "|The 1999 audi a4 has a 4 cylinder engine.|\n",
      "|The 2008 audi a4 has a 4 cylinder engine.|\n",
      "|The 2008 audi a4 has a 4 cylinder engine.|\n",
      "|The 1999 audi a4 has a 6 cylinder engine.|\n",
      "+-----------------------------------------+\n",
      "only showing top 5 rows\n",
      "\n"
     ]
    }
   ],
   "source": [
    "mpg.select(concat(lit(\"The \"), mpg.year, lit(\" \"), mpg.manufacturer, lit(\" \"), mpg.model, lit(\" has a \"), mpg.cyl, lit(\" cylinder engine.\")).alias(\"column\")).show(5, truncate = False)"
   ]
  },
  {
   "cell_type": "markdown",
   "metadata": {},
   "source": [
    "For each vehicle.\n",
    "\n",
    "    * Transform the trans column so that it only contains either manual or auto."
   ]
  },
  {
   "cell_type": "code",
   "execution_count": 9,
   "metadata": {
    "scrolled": false
   },
   "outputs": [
    {
     "name": "stdout",
     "output_type": "stream",
     "text": [
      "+------------+----------+-----+----+---+----------+---+---+---+---+-------+\n",
      "|manufacturer|     model|displ|year|cyl|     trans|drv|cty|hwy| fl|  class|\n",
      "+------------+----------+-----+----+---+----------+---+---+---+---+-------+\n",
      "|        audi|        a4|  1.8|1999|  4|manual(m5)|  f| 21| 29|  p|compact|\n",
      "|        audi|        a4|  2.0|2008|  4|manual(m6)|  f| 20| 31|  p|compact|\n",
      "|        audi|        a4|  2.8|1999|  6|manual(m5)|  f| 18| 26|  p|compact|\n",
      "|        audi|a4 quattro|  1.8|1999|  4|manual(m5)|  4| 18| 26|  p|compact|\n",
      "|        audi|a4 quattro|  2.0|2008|  4|manual(m6)|  4| 20| 28|  p|compact|\n",
      "+------------+----------+-----+----+---+----------+---+---+---+---+-------+\n",
      "only showing top 5 rows\n",
      "\n"
     ]
    }
   ],
   "source": [
    "mpg.filter(mpg[\"trans\"].like(\"%manual%\")).show(5)"
   ]
  },
  {
   "cell_type": "code",
   "execution_count": 97,
   "metadata": {},
   "outputs": [
    {
     "name": "stdout",
     "output_type": "stream",
     "text": [
      "+----------+------+\n",
      "|     trans|transm|\n",
      "+----------+------+\n",
      "|  auto(l5)|  auto|\n",
      "|manual(m5)|manual|\n",
      "|manual(m6)|manual|\n",
      "|  auto(av)|  auto|\n",
      "|  auto(l5)|  auto|\n",
      "+----------+------+\n",
      "only showing top 5 rows\n",
      "\n"
     ]
    }
   ],
   "source": [
    "mpg.select(\n",
    "    \"trans\",\n",
    "    regexp_extract(\"trans\", r\"^(\\w+)\", 1).alias(\"transm\")\n",
    "    \n",
    ").show(5)"
   ]
  },
  {
   "cell_type": "code",
   "execution_count": 101,
   "metadata": {},
   "outputs": [],
   "source": [
    "mpg = mpg.withColumn(\n",
    "    \"transmission\", \n",
    "    regexp_extract(\"trans\", r\"^(\\w+)\", 1).alias(\"transm\")\n",
    "\n",
    ").drop(\"trans\")"
   ]
  },
  {
   "cell_type": "code",
   "execution_count": 102,
   "metadata": {},
   "outputs": [
    {
     "name": "stdout",
     "output_type": "stream",
     "text": [
      "+------------+-----+-----+----+---+---+---+---+---+-------+------------+\n",
      "|manufacturer|model|displ|year|cyl|drv|cty|hwy| fl|  class|transmission|\n",
      "+------------+-----+-----+----+---+---+---+---+---+-------+------------+\n",
      "|        audi|   a4|  1.8|1999|  4|  f| 18| 29|  p|compact|        auto|\n",
      "|        audi|   a4|  1.8|1999|  4|  f| 21| 29|  p|compact|      manual|\n",
      "|        audi|   a4|  2.0|2008|  4|  f| 20| 31|  p|compact|      manual|\n",
      "|        audi|   a4|  2.0|2008|  4|  f| 21| 30|  p|compact|        auto|\n",
      "|        audi|   a4|  2.8|1999|  6|  f| 16| 26|  p|compact|        auto|\n",
      "+------------+-----+-----+----+---+---+---+---+---+-------+------------+\n",
      "only showing top 5 rows\n",
      "\n"
     ]
    }
   ],
   "source": [
    "mpg.show(5)"
   ]
  },
  {
   "cell_type": "markdown",
   "metadata": {},
   "source": [
    "3. Load the tips dataset as a spark dataframe.\n",
    "\n",
    "    * What percentage of observations are smokers?\n",
    "    * Create a column that contains the tip percentage\n",
    "    * Calculate the average tip percentage for each combination of sex and smoker."
   ]
  },
  {
   "cell_type": "code",
   "execution_count": 10,
   "metadata": {},
   "outputs": [],
   "source": [
    "tips = spark.createDataFrame(data(\"tips\"))"
   ]
  },
  {
   "cell_type": "code",
   "execution_count": 11,
   "metadata": {
    "scrolled": false
   },
   "outputs": [
    {
     "name": "stdout",
     "output_type": "stream",
     "text": [
      "+----------+----+------+------+---+------+----+\n",
      "|total_bill| tip|   sex|smoker|day|  time|size|\n",
      "+----------+----+------+------+---+------+----+\n",
      "|     16.99|1.01|Female|    No|Sun|Dinner|   2|\n",
      "|     10.34|1.66|  Male|    No|Sun|Dinner|   3|\n",
      "|     21.01| 3.5|  Male|    No|Sun|Dinner|   3|\n",
      "|     23.68|3.31|  Male|    No|Sun|Dinner|   2|\n",
      "|     24.59|3.61|Female|    No|Sun|Dinner|   4|\n",
      "+----------+----+------+------+---+------+----+\n",
      "only showing top 5 rows\n",
      "\n"
     ]
    }
   ],
   "source": [
    "tips.show(5)"
   ]
  },
  {
   "cell_type": "code",
   "execution_count": 12,
   "metadata": {
    "scrolled": false
   },
   "outputs": [
    {
     "name": "stdout",
     "output_type": "stream",
     "text": [
      "+------+---------------------+\n",
      "|smoker|(count(smoker) / 244)|\n",
      "+------+---------------------+\n",
      "|    No|   0.6188524590163934|\n",
      "|   Yes|  0.38114754098360654|\n",
      "+------+---------------------+\n",
      "\n"
     ]
    }
   ],
   "source": [
    "# What percentage of observations are smokers?\n",
    "\n",
    "tips.groupBy(\"smoker\").agg(count(tips.smoker) / tips.count()).show(5)"
   ]
  },
  {
   "cell_type": "code",
   "execution_count": 13,
   "metadata": {},
   "outputs": [],
   "source": [
    "# Create a column that contains the tip percentage\n",
    "tip_percentage = tips.select(tips.tip / tips.total_bill)"
   ]
  },
  {
   "cell_type": "code",
   "execution_count": 62,
   "metadata": {
    "scrolled": false
   },
   "outputs": [
    {
     "name": "stdout",
     "output_type": "stream",
     "text": [
      "+----------+----+------+------+---+------+----+--------------+\n",
      "|total_bill| tip|   sex|smoker|day|  time|size|tip_percentage|\n",
      "+----------+----+------+------+---+------+----+--------------+\n",
      "|     16.99|1.01|Female|    No|Sun|Dinner|   2|           6.0|\n",
      "|     10.34|1.66|  Male|    No|Sun|Dinner|   3|          16.0|\n",
      "|     21.01| 3.5|  Male|    No|Sun|Dinner|   3|          17.0|\n",
      "|     23.68|3.31|  Male|    No|Sun|Dinner|   2|          14.0|\n",
      "|     24.59|3.61|Female|    No|Sun|Dinner|   4|          15.0|\n",
      "|     25.29|4.71|  Male|    No|Sun|Dinner|   4|          19.0|\n",
      "|      8.77| 2.0|  Male|    No|Sun|Dinner|   2|          23.0|\n",
      "|     26.88|3.12|  Male|    No|Sun|Dinner|   4|          12.0|\n",
      "|     15.04|1.96|  Male|    No|Sun|Dinner|   2|          13.0|\n",
      "|     14.78|3.23|  Male|    No|Sun|Dinner|   2|          22.0|\n",
      "|     10.27|1.71|  Male|    No|Sun|Dinner|   2|          17.0|\n",
      "|     35.26| 5.0|Female|    No|Sun|Dinner|   4|          14.0|\n",
      "|     15.42|1.57|  Male|    No|Sun|Dinner|   2|          10.0|\n",
      "|     18.43| 3.0|  Male|    No|Sun|Dinner|   4|          16.0|\n",
      "|     14.83|3.02|Female|    No|Sun|Dinner|   2|          20.0|\n",
      "|     21.58|3.92|  Male|    No|Sun|Dinner|   2|          18.0|\n",
      "|     10.33|1.67|Female|    No|Sun|Dinner|   3|          16.0|\n",
      "|     16.29|3.71|  Male|    No|Sun|Dinner|   3|          23.0|\n",
      "|     16.97| 3.5|Female|    No|Sun|Dinner|   3|          21.0|\n",
      "|     20.65|3.35|  Male|    No|Sat|Dinner|   3|          16.0|\n",
      "+----------+----+------+------+---+------+----+--------------+\n",
      "only showing top 20 rows\n",
      "\n"
     ]
    }
   ],
   "source": [
    "tips = tips.withColumn(\n",
    "    \"tip_percentage\", expr(\"Round((tip / total_bill) * 100)\")\n",
    ")\n",
    "\n",
    "tips.show()"
   ]
  },
  {
   "cell_type": "code",
   "execution_count": 16,
   "metadata": {},
   "outputs": [
    {
     "name": "stdout",
     "output_type": "stream",
     "text": [
      "+------+------+-----------------+\n",
      "|   sex|smoker|         avg(tip)|\n",
      "+------+------+-----------------+\n",
      "|  Male|    No| 3.11340206185567|\n",
      "|  Male|   Yes|3.051166666666667|\n",
      "|Female|    No|2.773518518518518|\n",
      "|Female|   Yes|2.931515151515151|\n",
      "+------+------+-----------------+\n",
      "\n"
     ]
    }
   ],
   "source": [
    "# Calculate the average tip \n",
    "# percentage for each combination of sex and smoker.\n",
    "\n",
    "tips.groupBy(tips.sex, tips.smoker).agg(avg(tips.tip)).show()"
   ]
  },
  {
   "cell_type": "markdown",
   "metadata": {},
   "source": [
    "4. Use the seattle weather dataset referenced in the lesson to answer the questions below.\n",
    "\n",
    "    * Convert the temperatures to farenheight.\n",
    "    * Which month has the most rain, on average?\n",
    "    * Which year was the windiest?\n",
    "    * What is the most frequent type of weather in January?\n",
    "    * What is the average high and low tempurature on sunny days in July in 2013 and 2014?\n",
    "    * What percentage of days were rainy in q3 of 2015?\n",
    "    * For each year, find what percentage of days it rained (had non-zero precipitation)."
   ]
  },
  {
   "cell_type": "code",
   "execution_count": 17,
   "metadata": {},
   "outputs": [],
   "source": [
    "from vega_datasets import data"
   ]
  },
  {
   "cell_type": "code",
   "execution_count": 18,
   "metadata": {},
   "outputs": [],
   "source": [
    "weather = data.seattle_weather().assign(date=lambda df: df.date.astype(str))"
   ]
  },
  {
   "cell_type": "code",
   "execution_count": 19,
   "metadata": {},
   "outputs": [],
   "source": [
    "weather = spark.createDataFrame(weather)"
   ]
  },
  {
   "cell_type": "code",
   "execution_count": 20,
   "metadata": {},
   "outputs": [
    {
     "name": "stdout",
     "output_type": "stream",
     "text": [
      "+----------+-------------+--------+--------+----+-------+\n",
      "|      date|precipitation|temp_max|temp_min|wind|weather|\n",
      "+----------+-------------+--------+--------+----+-------+\n",
      "|2012-01-01|          0.0|    12.8|     5.0| 4.7|drizzle|\n",
      "|2012-01-02|         10.9|    10.6|     2.8| 4.5|   rain|\n",
      "|2012-01-03|          0.8|    11.7|     7.2| 2.3|   rain|\n",
      "|2012-01-04|         20.3|    12.2|     5.6| 4.7|   rain|\n",
      "|2012-01-05|          1.3|     8.9|     2.8| 6.1|   rain|\n",
      "+----------+-------------+--------+--------+----+-------+\n",
      "only showing top 5 rows\n",
      "\n"
     ]
    }
   ],
   "source": [
    "weather.show(5)"
   ]
  },
  {
   "cell_type": "code",
   "execution_count": 22,
   "metadata": {},
   "outputs": [],
   "source": [
    "# convert the temperatures to farenheight\n",
    "weather = weather.withColumn(\n",
    "    \"temp_max_f\", expr(\"Round(temp_max * (9/5) + 32)\")\n",
    ").withColumn(\n",
    "    \"temp_min_f\", expr(\"Round(temp_min * (9/5) + 32)\")\n",
    ").drop(\"temp_max\", \"temp_min\")"
   ]
  },
  {
   "cell_type": "code",
   "execution_count": 23,
   "metadata": {
    "scrolled": true
   },
   "outputs": [
    {
     "name": "stdout",
     "output_type": "stream",
     "text": [
      "+----------+-------------+----+-------+----------+----------+\n",
      "|      date|precipitation|wind|weather|temp_max_f|temp_min_f|\n",
      "+----------+-------------+----+-------+----------+----------+\n",
      "|2012-01-01|          0.0| 4.7|drizzle|      55.0|      41.0|\n",
      "|2012-01-02|         10.9| 4.5|   rain|      51.0|      37.0|\n",
      "|2012-01-03|          0.8| 2.3|   rain|      53.0|      45.0|\n",
      "|2012-01-04|         20.3| 4.7|   rain|      54.0|      42.0|\n",
      "|2012-01-05|          1.3| 6.1|   rain|      48.0|      37.0|\n",
      "+----------+-------------+----+-------+----------+----------+\n",
      "only showing top 5 rows\n",
      "\n"
     ]
    }
   ],
   "source": [
    "weather.show(5)"
   ]
  },
  {
   "cell_type": "code",
   "execution_count": 29,
   "metadata": {
    "scrolled": true
   },
   "outputs": [
    {
     "name": "stdout",
     "output_type": "stream",
     "text": [
      "+-----+------------------+\n",
      "|month|        total_rain|\n",
      "+-----+------------------+\n",
      "|    1|465.99999999999994|\n",
      "|    2|             422.0|\n",
      "|    3|             606.2|\n",
      "|    4|             375.4|\n",
      "|    5|             207.5|\n",
      "|    6|             132.9|\n",
      "|    7|              48.2|\n",
      "|    8|             163.7|\n",
      "|    9|235.49999999999997|\n",
      "|   10|             503.4|\n",
      "|   11|             642.5|\n",
      "|   12| 622.7000000000002|\n",
      "+-----+------------------+\n",
      "\n"
     ]
    }
   ],
   "source": [
    "# Which month has the most rain, on average?\n",
    "\n",
    "( \n",
    "    weather.withColumn(\"month\", month(\"date\"))\n",
    "    .groupBy(\"month\")\n",
    "    .agg(sum(\"precipitation\").alias(\"total_rain\"))\n",
    "    .sort(\"month\")\n",
    "    .show()\n",
    "    \n",
    ")\n",
    "\n",
    "# It seems that the answer is Nov."
   ]
  },
  {
   "cell_type": "code",
   "execution_count": 32,
   "metadata": {},
   "outputs": [
    {
     "name": "stdout",
     "output_type": "stream",
     "text": [
      "+----+------------------+\n",
      "|year|        total_wind|\n",
      "+----+------------------+\n",
      "|2012|            1244.7|\n",
      "|2013|1100.8000000000006|\n",
      "|2014|1236.5000000000007|\n",
      "|2015|1153.3000000000002|\n",
      "+----+------------------+\n",
      "\n"
     ]
    }
   ],
   "source": [
    "# Which year was the windiest?\n",
    "\n",
    "( \n",
    "    weather.withColumn(\"year\", year(\"date\"))\n",
    "    .groupBy(\"year\")\n",
    "    .agg(sum(\"wind\").alias(\"total_wind\"))\n",
    "    .sort(\"year\")\n",
    "    .show()\n",
    "    \n",
    ")\n",
    "\n",
    "# 2012 was the windiest year"
   ]
  },
  {
   "cell_type": "code",
   "execution_count": 35,
   "metadata": {},
   "outputs": [
    {
     "name": "stdout",
     "output_type": "stream",
     "text": [
      "+-----+-------+--------------+\n",
      "|month|weather|count(weather)|\n",
      "+-----+-------+--------------+\n",
      "|    1|   snow|             8|\n",
      "|    1|   rain|            35|\n",
      "|    1|drizzle|            10|\n",
      "|    1|    sun|            33|\n",
      "|    1|    fog|            38|\n",
      "+-----+-------+--------------+\n",
      "only showing top 5 rows\n",
      "\n"
     ]
    }
   ],
   "source": [
    "# What is the most frequent type of weather in January?\n",
    "\n",
    "( \n",
    "    weather.withColumn(\"month\", month(\"date\"))\n",
    "    .groupBy(\"month\", weather.weather)\n",
    "    .agg(count(\"weather\"))\n",
    "    .sort(\"month\")\n",
    "    .show(5)\n",
    "    \n",
    ")\n",
    "\n",
    "# fog seems to be the most common type of weather"
   ]
  },
  {
   "cell_type": "code",
   "execution_count": 55,
   "metadata": {},
   "outputs": [
    {
     "name": "stdout",
     "output_type": "stream",
     "text": [
      "+-------+-----------------+-----------------+\n",
      "|weather|  avg(temp_max_f)|  avg(temp_min_f)|\n",
      "+-------+-----------------+-----------------+\n",
      "|    sun|80.28846153846153|57.53846153846154|\n",
      "+-------+-----------------+-----------------+\n",
      "\n"
     ]
    }
   ],
   "source": [
    "# What is the average high and low \n",
    "# tempurature on sunny days in July in 2013 and 2014?\n",
    "\n",
    "(\n",
    "    weather.filter(month(\"date\") == 7)\n",
    "    .filter(year(\"date\") >= 2013)\n",
    "    .filter(year(\"date\") <= 2014)\n",
    "    .filter(weather.weather == \"sun\")\n",
    "    .groupBy(\"weather\")\n",
    "    .agg(mean(\"temp_max_f\"), mean(\"temp_min_f\"))\n",
    "    .show()\n",
    ")"
   ]
  },
  {
   "cell_type": "code",
   "execution_count": 45,
   "metadata": {},
   "outputs": [
    {
     "name": "stdout",
     "output_type": "stream",
     "text": [
      "+-------+--------------------+\n",
      "|weather|  (count(date) / 92)|\n",
      "+-------+--------------------+\n",
      "|   rain|0.021739130434782608|\n",
      "+-------+--------------------+\n",
      "\n"
     ]
    }
   ],
   "source": [
    "# What percentage of days were rainy in q3 of 2015?\n",
    "\n",
    "(\n",
    "\n",
    "    weather.filter(year('date') == 2015)\n",
    "    .filter(quarter(\"date\") == 3)\n",
    "    .filter(weather.weather == \"rain\")\n",
    "    .groupby(\"weather\")\n",
    "    .agg(count(\"date\") / 92)\n",
    "    .show()\n",
    ")"
   ]
  },
  {
   "cell_type": "code",
   "execution_count": 53,
   "metadata": {},
   "outputs": [
    {
     "name": "stdout",
     "output_type": "stream",
     "text": [
      "+----+----------------------+\n",
      "|year|(count(date) / 365.25)|\n",
      "+----+----------------------+\n",
      "|2012|   0.48459958932238195|\n",
      "|2013|    0.4161533196440794|\n",
      "|2014|    0.4106776180698152|\n",
      "|2015|    0.3942505133470226|\n",
      "+----+----------------------+\n",
      "\n"
     ]
    }
   ],
   "source": [
    "# For each year, find what percentage of \n",
    "# days it rained (had non-zero precipitation)\n",
    "\n",
    "(\n",
    "\n",
    "    weather.withColumn(\"year\", year(\"date\"))\n",
    "    .filter(weather.precipitation > 0)\n",
    "    .groupBy(\"year\")\n",
    "    .agg(count(\"date\") / 365.25)\n",
    "    .sort(\"year\")\n",
    "    .show()\n",
    ")"
   ]
  }
 ],
 "metadata": {
  "kernelspec": {
   "display_name": "Python 3",
   "language": "python",
   "name": "python3"
  },
  "language_info": {
   "codemirror_mode": {
    "name": "ipython",
    "version": 3
   },
   "file_extension": ".py",
   "mimetype": "text/x-python",
   "name": "python",
   "nbconvert_exporter": "python",
   "pygments_lexer": "ipython3",
   "version": "3.7.4"
  }
 },
 "nbformat": 4,
 "nbformat_minor": 2
}
